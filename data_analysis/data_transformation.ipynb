{
 "cells": [
  {
   "cell_type": "code",
   "execution_count": 46,
   "metadata": {},
   "outputs": [],
   "source": [
    "import glob\n",
    "import os\n",
    "import pandas as pd\n",
    "import ast\n"
   ]
  },
  {
   "cell_type": "code",
   "execution_count": 47,
   "metadata": {},
   "outputs": [
    {
     "data": {
      "text/html": [
       "<div>\n",
       "<style scoped>\n",
       "    .dataframe tbody tr th:only-of-type {\n",
       "        vertical-align: middle;\n",
       "    }\n",
       "\n",
       "    .dataframe tbody tr th {\n",
       "        vertical-align: top;\n",
       "    }\n",
       "\n",
       "    .dataframe thead th {\n",
       "        text-align: right;\n",
       "    }\n",
       "</style>\n",
       "<table border=\"1\" class=\"dataframe\">\n",
       "  <thead>\n",
       "    <tr style=\"text-align: right;\">\n",
       "      <th></th>\n",
       "      <th>client</th>\n",
       "      <th>angle</th>\n",
       "      <th>parkinson</th>\n",
       "      <th>vector</th>\n",
       "    </tr>\n",
       "  </thead>\n",
       "  <tbody>\n",
       "    <tr>\n",
       "      <th>0</th>\n",
       "      <td>1</td>\n",
       "      <td>0</td>\n",
       "      <td>1</td>\n",
       "      <td>[[38.89351272583008, 17.675010681152344], [43....</td>\n",
       "    </tr>\n",
       "    <tr>\n",
       "      <th>1</th>\n",
       "      <td>1</td>\n",
       "      <td>0</td>\n",
       "      <td>1</td>\n",
       "      <td>[[85.9338607788086, 29.34123420715332], [92.69...</td>\n",
       "    </tr>\n",
       "    <tr>\n",
       "      <th>2</th>\n",
       "      <td>1</td>\n",
       "      <td>0</td>\n",
       "      <td>1</td>\n",
       "      <td>[[50.33542251586914, 20.45751190185547], [55.2...</td>\n",
       "    </tr>\n",
       "    <tr>\n",
       "      <th>3</th>\n",
       "      <td>1</td>\n",
       "      <td>0</td>\n",
       "      <td>1</td>\n",
       "      <td>[[44.83964920043945, 21.37966537475586], [50.3...</td>\n",
       "    </tr>\n",
       "    <tr>\n",
       "      <th>4</th>\n",
       "      <td>1</td>\n",
       "      <td>0</td>\n",
       "      <td>1</td>\n",
       "      <td>[[64.98465728759766, 29.381858825683594], [70....</td>\n",
       "    </tr>\n",
       "  </tbody>\n",
       "</table>\n",
       "</div>"
      ],
      "text/plain": [
       "   client  angle  parkinson                                             vector\n",
       "0       1      0          1  [[38.89351272583008, 17.675010681152344], [43....\n",
       "1       1      0          1  [[85.9338607788086, 29.34123420715332], [92.69...\n",
       "2       1      0          1  [[50.33542251586914, 20.45751190185547], [55.2...\n",
       "3       1      0          1  [[44.83964920043945, 21.37966537475586], [50.3...\n",
       "4       1      0          1  [[64.98465728759766, 29.381858825683594], [70...."
      ]
     },
     "execution_count": 47,
     "metadata": {},
     "output_type": "execute_result"
    }
   ],
   "source": [
    "# Define the path to the folder containing the text files\n",
    "folder_path = '../data/test_data'\n",
    "\n",
    "# Use glob to get a list of all text files in the folder\n",
    "text_files = glob.glob(os.path.join(folder_path, '*.txt'))\n",
    "\n",
    "# Initialize lists to store data\n",
    "vectors = []\n",
    "clients = []\n",
    "angles = []\n",
    "parkinson_status = []\n",
    "\n",
    "# Loop through the list and read each file\n",
    "for file_path in text_files:\n",
    "    # Extract client, angle, and Parkinson status from the file name\n",
    "    file_name = os.path.basename(file_path).split('.')[0]\n",
    "    parts = file_name.split('_')\n",
    "    client = int(parts[0])\n",
    "    angle = int(parts[1])\n",
    "    parkinson = 1 if parts[2].lower() == 'parkinson' else 0\n",
    "    \n",
    "    with open(file_path, 'r') as file:\n",
    "        for line in file:\n",
    "            # Extract the vector from the line\n",
    "            _, vector_str = line.split(': ')\n",
    "            vector = ast.literal_eval(vector_str.strip())\n",
    "            \n",
    "            # Flatten the nested list if needed\n",
    "            vector = [item for sublist1 in vector for sublist2 in sublist1 for item in sublist2]\n",
    "            \n",
    "            # Append to lists\n",
    "            vectors.append(vector)\n",
    "            clients.append(client)\n",
    "            angles.append(angle)\n",
    "            parkinson_status.append(parkinson)\n",
    "\n",
    "# Create the DataFrame\n",
    "data = {\n",
    "    'client': clients,\n",
    "    'angle': angles,\n",
    "    'parkinson': parkinson_status,\n",
    "    'vector': vectors\n",
    "}\n",
    "df = pd.DataFrame(data)\n",
    "\n",
    "# Save DataFrame to a CSV file if needed\n",
    "df.to_csv('output.csv', index=False)"
   ]
  },
  {
   "cell_type": "code",
   "execution_count": 48,
   "metadata": {},
   "outputs": [
    {
     "data": {
      "text/html": [
       "<div>\n",
       "<style scoped>\n",
       "    .dataframe tbody tr th:only-of-type {\n",
       "        vertical-align: middle;\n",
       "    }\n",
       "\n",
       "    .dataframe tbody tr th {\n",
       "        vertical-align: top;\n",
       "    }\n",
       "\n",
       "    .dataframe thead th {\n",
       "        text-align: right;\n",
       "    }\n",
       "</style>\n",
       "<table border=\"1\" class=\"dataframe\">\n",
       "  <thead>\n",
       "    <tr style=\"text-align: right;\">\n",
       "      <th></th>\n",
       "      <th>client</th>\n",
       "      <th>angle</th>\n",
       "      <th>parkinson</th>\n",
       "      <th>vector</th>\n",
       "    </tr>\n",
       "  </thead>\n",
       "  <tbody>\n",
       "    <tr>\n",
       "      <th>0</th>\n",
       "      <td>1</td>\n",
       "      <td>0</td>\n",
       "      <td>1</td>\n",
       "      <td>[[38.89351272583008, 17.675010681152344], [43....</td>\n",
       "    </tr>\n",
       "    <tr>\n",
       "      <th>1</th>\n",
       "      <td>1</td>\n",
       "      <td>0</td>\n",
       "      <td>1</td>\n",
       "      <td>[[85.9338607788086, 29.34123420715332], [92.69...</td>\n",
       "    </tr>\n",
       "    <tr>\n",
       "      <th>2</th>\n",
       "      <td>1</td>\n",
       "      <td>0</td>\n",
       "      <td>1</td>\n",
       "      <td>[[50.33542251586914, 20.45751190185547], [55.2...</td>\n",
       "    </tr>\n",
       "    <tr>\n",
       "      <th>3</th>\n",
       "      <td>1</td>\n",
       "      <td>0</td>\n",
       "      <td>1</td>\n",
       "      <td>[[44.83964920043945, 21.37966537475586], [50.3...</td>\n",
       "    </tr>\n",
       "    <tr>\n",
       "      <th>4</th>\n",
       "      <td>1</td>\n",
       "      <td>0</td>\n",
       "      <td>1</td>\n",
       "      <td>[[64.98465728759766, 29.381858825683594], [70....</td>\n",
       "    </tr>\n",
       "    <tr>\n",
       "      <th>...</th>\n",
       "      <td>...</td>\n",
       "      <td>...</td>\n",
       "      <td>...</td>\n",
       "      <td>...</td>\n",
       "    </tr>\n",
       "    <tr>\n",
       "      <th>546</th>\n",
       "      <td>1</td>\n",
       "      <td>90</td>\n",
       "      <td>1</td>\n",
       "      <td>[[157.67861938476562, 44.677371978759766], [15...</td>\n",
       "    </tr>\n",
       "    <tr>\n",
       "      <th>547</th>\n",
       "      <td>1</td>\n",
       "      <td>90</td>\n",
       "      <td>1</td>\n",
       "      <td>[[104.82242584228516, 46.87606430053711], [109...</td>\n",
       "    </tr>\n",
       "    <tr>\n",
       "      <th>548</th>\n",
       "      <td>1</td>\n",
       "      <td>90</td>\n",
       "      <td>1</td>\n",
       "      <td>[[135.35787963867188, 49.76270294189453], [138...</td>\n",
       "    </tr>\n",
       "    <tr>\n",
       "      <th>549</th>\n",
       "      <td>1</td>\n",
       "      <td>90</td>\n",
       "      <td>1</td>\n",
       "      <td>[[133.68704223632812, 43.090797424316406], [13...</td>\n",
       "    </tr>\n",
       "    <tr>\n",
       "      <th>550</th>\n",
       "      <td>1</td>\n",
       "      <td>90</td>\n",
       "      <td>1</td>\n",
       "      <td>[[113.06315612792969, 45.045780181884766], [0....</td>\n",
       "    </tr>\n",
       "  </tbody>\n",
       "</table>\n",
       "<p>551 rows × 4 columns</p>\n",
       "</div>"
      ],
      "text/plain": [
       "     client  angle  parkinson  \\\n",
       "0         1      0          1   \n",
       "1         1      0          1   \n",
       "2         1      0          1   \n",
       "3         1      0          1   \n",
       "4         1      0          1   \n",
       "..      ...    ...        ...   \n",
       "546       1     90          1   \n",
       "547       1     90          1   \n",
       "548       1     90          1   \n",
       "549       1     90          1   \n",
       "550       1     90          1   \n",
       "\n",
       "                                                vector  \n",
       "0    [[38.89351272583008, 17.675010681152344], [43....  \n",
       "1    [[85.9338607788086, 29.34123420715332], [92.69...  \n",
       "2    [[50.33542251586914, 20.45751190185547], [55.2...  \n",
       "3    [[44.83964920043945, 21.37966537475586], [50.3...  \n",
       "4    [[64.98465728759766, 29.381858825683594], [70....  \n",
       "..                                                 ...  \n",
       "546  [[157.67861938476562, 44.677371978759766], [15...  \n",
       "547  [[104.82242584228516, 46.87606430053711], [109...  \n",
       "548  [[135.35787963867188, 49.76270294189453], [138...  \n",
       "549  [[133.68704223632812, 43.090797424316406], [13...  \n",
       "550  [[113.06315612792969, 45.045780181884766], [0....  \n",
       "\n",
       "[551 rows x 4 columns]"
      ]
     },
     "execution_count": 48,
     "metadata": {},
     "output_type": "execute_result"
    }
   ],
   "source": [
    "df"
   ]
  },
  {
   "cell_type": "code",
   "execution_count": 50,
   "metadata": {},
   "outputs": [
    {
     "data": {
      "text/plain": [
       "17"
      ]
     },
     "execution_count": 50,
     "metadata": {},
     "output_type": "execute_result"
    }
   ],
   "source": [
    "#get the shortest vector length\n",
    "min_len = min([len(v) for v in df['vector']])\n",
    "min_len"
   ]
  },
  {
   "cell_type": "code",
   "execution_count": null,
   "metadata": {},
   "outputs": [],
   "source": []
  },
  {
   "cell_type": "code",
   "execution_count": 49,
   "metadata": {},
   "outputs": [],
   "source": [
    "df.to_csv('../output_data/output_2D.csv', index=False)"
   ]
  },
  {
   "cell_type": "code",
   "execution_count": 27,
   "metadata": {},
   "outputs": [],
   "source": [
    "import numpy as np\n",
    "import torch"
   ]
  },
  {
   "cell_type": "code",
   "execution_count": 41,
   "metadata": {},
   "outputs": [],
   "source": [
    "# Function to add a third element 0 to each sublist\n",
    "def add_third_element(vector):\n",
    "    return [sublist + [0] for sublist in vector[0][0]]"
   ]
  },
  {
   "cell_type": "code",
   "execution_count": 42,
   "metadata": {},
   "outputs": [
    {
     "data": {
      "text/plain": [
       "[38.89351272583008, 17.675010681152344]"
      ]
     },
     "execution_count": 42,
     "metadata": {},
     "output_type": "execute_result"
    }
   ],
   "source": [
    "# Function to process each vector\n",
    "def process_vector(vector):\n",
    "    # Add third element 0 to each sublist\n",
    "    vector = add_third_element(vector)\n",
    "    \n",
    "    # Convert to numpy array\n",
    "    data = np.array(vector)\n",
    "    \n",
    "    # Add batch and frame dimensions\n",
    "    data = data[np.newaxis, np.newaxis, :, :]\n",
    "    \n",
    "    # Add Z coordinate (set to 0 for 2D data)\n",
    "    data = np.pad(data, ((0,0), (0,0), (0,0), (0,0), (0,1)), mode='constant')\n",
    "    \n",
    "    # Reshape to [batch_size, num_channels, num_frames, num_joints]\n",
    "    data = np.transpose(data, (0, 4, 1, 3, 2))\n",
    "    \n",
    "    # Repeat the frame 300 times to simulate a sequence\n",
    "    data = np.repeat(data, 300, axis=2)\n",
    "    \n",
    "    # Convert to PyTorch tensor\n",
    "    data_tensor = torch.FloatTensor(data)\n",
    "    \n",
    "    return data_tensor"
   ]
  },
  {
   "cell_type": "code",
   "execution_count": 44,
   "metadata": {},
   "outputs": [
    {
     "name": "stdout",
     "output_type": "stream",
     "text": [
      "     client  angle  parkinson  \\\n",
      "0         1      0          1   \n",
      "1         1      0          1   \n",
      "2         1      0          1   \n",
      "3         1      0          1   \n",
      "4         1      0          1   \n",
      "..      ...    ...        ...   \n",
      "546       1     90          1   \n",
      "547       1     90          1   \n",
      "548       1     90          1   \n",
      "549       1     90          1   \n",
      "550       1     90          1   \n",
      "\n",
      "                                                vector  \n",
      "0    [[38.89351272583008, 17.675010681152344, 0, 0]...  \n",
      "1    [[85.9338607788086, 29.34123420715332, 0, 0], ...  \n",
      "2    [[50.33542251586914, 20.45751190185547, 0, 0],...  \n",
      "3    [[44.83964920043945, 21.37966537475586, 0, 0],...  \n",
      "4    [[64.98465728759766, 29.381858825683594, 0, 0]...  \n",
      "..                                                 ...  \n",
      "546  [[157.67861938476562, 44.677371978759766, 0, 0...  \n",
      "547  [[104.82242584228516, 46.87606430053711, 0, 0]...  \n",
      "548  [[135.35787963867188, 49.76270294189453, 0, 0]...  \n",
      "549  [[133.68704223632812, 43.090797424316406, 0, 0...  \n",
      "550  [[113.06315612792969, 45.045780181884766, 0, 0...  \n",
      "\n",
      "[551 rows x 4 columns]\n"
     ]
    }
   ],
   "source": [
    "# Apply the function to the 'vector' column\n",
    "df['vector'] = df['vector'].apply(add_third_element)\n",
    "\n",
    "# Print the DataFrame to check the result\n",
    "print(df)"
   ]
  },
  {
   "cell_type": "code",
   "execution_count": 45,
   "metadata": {},
   "outputs": [],
   "source": [
    "df.to_csv('../output_data/output.csv', index=False)"
   ]
  }
 ],
 "metadata": {
  "kernelspec": {
   "display_name": "base",
   "language": "python",
   "name": "python3"
  },
  "language_info": {
   "codemirror_mode": {
    "name": "ipython",
    "version": 3
   },
   "file_extension": ".py",
   "mimetype": "text/x-python",
   "name": "python",
   "nbconvert_exporter": "python",
   "pygments_lexer": "ipython3",
   "version": "3.9.12"
  }
 },
 "nbformat": 4,
 "nbformat_minor": 2
}
