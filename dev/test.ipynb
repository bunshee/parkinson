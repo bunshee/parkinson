{
 "cells": [
  {
   "cell_type": "code",
   "execution_count": 1,
   "metadata": {},
   "outputs": [],
   "source": [
    "import torch\n",
    "import torch.nn as nn\n",
    "import torch.nn.functional as F\n",
    "import numpy as np\n",
    "import pandas as pd"
   ]
  },
  {
   "cell_type": "code",
   "execution_count": 2,
   "metadata": {},
   "outputs": [],
   "source": [
    "class Graph():\n",
    "    def __init__(self, layout='openpose', strategy='spatial'):\n",
    "        self.get_edge(layout)\n",
    "        self.hop_dis = self.get_hop_distance(self.num_node, self.edge)\n",
    "        self.get_adjacency(strategy)\n",
    "\n",
    "    def get_edge(self, layout):\n",
    "        if layout == 'openpose':\n",
    "            self.num_node = 18  # or whatever number matches your data\n",
    "            print(f\"Graph: num_node = {self.num_node}\")\n",
    "            self_link = [(i, i) for i in range(self.num_node)]\n",
    "            neighbor_link = [(4, 3), (3, 2), (7, 6), (6, 5), (13, 12), (12, 11),\n",
    "                             (10, 9), (9, 8), (11, 5), (8, 2), (5, 1), (2, 1),\n",
    "                             (0, 1), (15, 0), (14, 0), (17, 15), (16, 14)]\n",
    "            self.edge = self_link + neighbor_link\n",
    "            self.center = 1\n",
    "        else:\n",
    "            raise ValueError(\"Do not support this layout.\")\n",
    "\n",
    "    def get_hop_distance(self, num_node, edge, max_hop=1):\n",
    "        A = np.zeros((num_node, num_node))\n",
    "        for i, j in edge:\n",
    "            A[j, i] = 1\n",
    "            A[i, j] = 1\n",
    "\n",
    "        hop_dis = np.zeros((num_node, num_node)) + np.inf\n",
    "        transfer_mat = [np.linalg.matrix_power(A, d) for d in range(max_hop + 1)]\n",
    "        arrive_mat = (np.stack(transfer_mat) > 0)\n",
    "        for d in range(max_hop, -1, -1):\n",
    "            hop_dis[arrive_mat[d]] = d\n",
    "        return hop_dis\n",
    "\n",
    "    def get_adjacency(self, strategy):\n",
    "        valid_hop = range(0, self.num_node - 1)\n",
    "        adjacency = np.zeros((self.num_node, self.num_node))\n",
    "        for hop in valid_hop:\n",
    "            adjacency[self.hop_dis == hop] = 1\n",
    "        normalize_adjacency = self.normalize_digraph(adjacency)\n",
    "\n",
    "        if strategy == 'uniform':\n",
    "            A = np.zeros((1, self.num_node, self.num_node))\n",
    "            A[0] = normalize_adjacency\n",
    "            self.A = A\n",
    "        elif strategy == 'distance':\n",
    "            A = np.zeros((len(valid_hop), self.num_node, self.num_node))\n",
    "            for i, hop in enumerate(valid_hop):\n",
    "                A[i][self.hop_dis == hop] = normalize_adjacency[self.hop_dis == hop]\n",
    "            self.A = A\n",
    "        elif strategy == 'spatial':\n",
    "            A = []\n",
    "            for hop in valid_hop:\n",
    "                a_root = np.zeros((self.num_node, self.num_node))\n",
    "                a_close = np.zeros((self.num_node, self.num_node))\n",
    "                a_further = np.zeros((self.num_node, self.num_node))\n",
    "                for i in range(self.num_node):\n",
    "                    for j in range(self.num_node):\n",
    "                        if self.hop_dis[j, i] == hop:\n",
    "                            if self.hop_dis[j, self.center] == self.hop_dis[i, self.center]:\n",
    "                                a_root[j, i] = normalize_adjacency[j, i]\n",
    "                            elif self.hop_dis[j, self.center] > self.hop_dis[i, self.center]:\n",
    "                                a_close[j, i] = normalize_adjacency[j, i]\n",
    "                            else:\n",
    "                                a_further[j, i] = normalize_adjacency[j, i]\n",
    "                if hop == 0:\n",
    "                    A.append(a_root)\n",
    "                else:\n",
    "                    A.append(a_root + a_close)\n",
    "                    A.append(a_further)\n",
    "            A = np.stack(A)\n",
    "            self.A = A\n",
    "        else:\n",
    "            raise ValueError(\"Do not support this strategy.\")\n",
    "\n",
    "    def normalize_digraph(self, A):\n",
    "        Dl = np.sum(A, 0)\n",
    "        num_node = A.shape[0]\n",
    "        Dn = np.zeros((num_node, num_node))\n",
    "        for i in range(num_node):\n",
    "            if Dl[i] > 0:\n",
    "                Dn[i, i] = Dl[i]**(-1)\n",
    "        AD = np.dot(A, Dn)\n",
    "        return AD"
   ]
  },
  {
   "cell_type": "code",
   "execution_count": 3,
   "metadata": {},
   "outputs": [],
   "source": [
    "class ConvTemporalGraphical(nn.Module):\n",
    "    def __init__(self, in_channels, out_channels, kernel_size, t_kernel_size=1, t_stride=1, t_padding=0, t_dilation=1, bias=True):\n",
    "        super().__init__()\n",
    "        self.kernel_size = kernel_size\n",
    "        self.conv = nn.Conv2d(in_channels, out_channels * kernel_size, kernel_size=(t_kernel_size, 1), \n",
    "                              padding=(t_padding, 0), stride=(t_stride, 1), dilation=(t_dilation, 1), bias=bias)\n",
    "\n",
    "    def forward(self, x, A):\n",
    "        assert A.size(0) == self.kernel_size\n",
    "        x = self.conv(x)\n",
    "        n, kc, t, v = x.size()\n",
    "        x = x.view(n, self.kernel_size, kc//self.kernel_size, t, v)\n",
    "        x = torch.einsum('nkctv,kvw->nctw', (x, A))\n",
    "        return x.contiguous(), A\n",
    "\n"
   ]
  },
  {
   "cell_type": "code",
   "execution_count": 4,
   "metadata": {},
   "outputs": [],
   "source": [
    "class STGCNBlock(nn.Module):\n",
    "    def __init__(self, in_channels, out_channels, kernel_size, stride=1, dropout=0, residual=True):\n",
    "        super().__init__()\n",
    "        assert len(kernel_size) == 2\n",
    "        assert kernel_size[0] % 2 == 1\n",
    "        padding = ((kernel_size[0] - 1) // 2, 0)\n",
    "        \n",
    "        self.gcn = ConvTemporalGraphical(in_channels, out_channels, kernel_size[1])\n",
    "        self.tcn = nn.Sequential(\n",
    "            nn.BatchNorm2d(out_channels),\n",
    "            nn.ReLU(inplace=True),\n",
    "            nn.Conv2d(out_channels, out_channels, (kernel_size[0], 1), (stride, 1), padding),\n",
    "            nn.BatchNorm2d(out_channels),\n",
    "            nn.Dropout(dropout, inplace=True)\n",
    "        )\n",
    "        \n",
    "        if not residual:\n",
    "            self.residual = lambda x: 0\n",
    "        elif (in_channels == out_channels) and (stride == 1):\n",
    "            self.residual = lambda x: x\n",
    "        else:\n",
    "            self.residual = nn.Sequential(\n",
    "                nn.Conv2d(in_channels, out_channels, kernel_size=1, stride=(stride, 1)),\n",
    "                nn.BatchNorm2d(out_channels)\n",
    "            )\n",
    "        \n",
    "        self.relu = nn.ReLU(inplace=True)\n",
    "    \n",
    "    def forward(self, x, A):\n",
    "        res = self.residual(x)\n",
    "        x, A = self.gcn(x, A)\n",
    "        x = self.tcn(x) + res\n",
    "        return self.relu(x), A"
   ]
  },
  {
   "cell_type": "code",
   "execution_count": 5,
   "metadata": {},
   "outputs": [],
   "source": [
    "class STGCN(nn.Module):\n",
    "    def __init__(self, in_channels, graph_args, edge_importance_weighting, **kwargs):\n",
    "        super().__init__()\n",
    "        self.graph = Graph(**graph_args)\n",
    "        A = torch.tensor(self.graph.A, dtype=torch.float32, requires_grad=False)\n",
    "        self.register_buffer('A', A)\n",
    "        \n",
    "        spatial_kernel_size = A.size(0)\n",
    "        temporal_kernel_size = 9\n",
    "        kernel_size = (temporal_kernel_size, spatial_kernel_size)\n",
    "        \n",
    "        # Replace BatchNorm with GroupNorm\n",
    "        self.data_bn = nn.GroupNorm(num_groups=4, num_channels=in_channels * A.size(1))\n",
    "        \n",
    "        self.st_gcn_networks = nn.ModuleList((\n",
    "            STGCNBlock(in_channels, 64, kernel_size, stride=1, residual=False),\n",
    "            STGCNBlock(64, 64, kernel_size, stride=1),\n",
    "            STGCNBlock(64, 64, kernel_size, stride=1),\n",
    "            STGCNBlock(64, 64, kernel_size, stride=1),\n",
    "            STGCNBlock(64, 128, kernel_size, stride=2),\n",
    "            STGCNBlock(128, 128, kernel_size, stride=1),\n",
    "            STGCNBlock(128, 128, kernel_size, stride=1),\n",
    "            STGCNBlock(128, 256, kernel_size, stride=2),\n",
    "            STGCNBlock(256, 256, kernel_size, stride=1),\n",
    "            STGCNBlock(256, 256, kernel_size, stride=1)\n",
    "        ))\n",
    "        \n",
    "        if edge_importance_weighting:\n",
    "            self.edge_importance = nn.ParameterList([\n",
    "                nn.Parameter(torch.ones(self.A.size()))\n",
    "                for i in self.st_gcn_networks\n",
    "            ])\n",
    "        else:\n",
    "            self.edge_importance = [1] * len(self.st_gcn_networks)\n",
    "    \n",
    "    def forward(self, x):\n",
    "        N, C, T, V = x.size()\n",
    "        x = x.permute(0, 3, 1, 2).contiguous()\n",
    "        x = x.view(N, V * C, T)\n",
    "        x = self.data_bn(x)\n",
    "        x = x.view(N, V, C, T)\n",
    "        x = x.permute(0, 2, 3, 1).contiguous()\n",
    "        x = x.view(N, C, T, V)\n",
    "        \n",
    "        for gcn, importance in zip(self.st_gcn_networks, self.edge_importance):\n",
    "            x, _ = gcn(x, self.A * importance)\n",
    "        \n",
    "        x = F.avg_pool2d(x, x.size()[2:])\n",
    "        x = x.view(N, -1)\n",
    "        \n",
    "        return x\n",
    "\n"
   ]
  },
  {
   "cell_type": "code",
   "execution_count": 6,
   "metadata": {},
   "outputs": [],
   "source": [
    "class ParkinsonsDetectionModel(nn.Module):\n",
    "    def __init__(self, in_channels, graph_args, edge_importance_weighting, **kwargs):\n",
    "        super().__init__()\n",
    "        self.st_gcn = STGCN(in_channels, graph_args, edge_importance_weighting, **kwargs)\n",
    "        self.angle_embedding = nn.Embedding(3, 64)  # 3 angles (0, 90, 180), embedding size 64\n",
    "        self.fc1 = nn.Linear(256 + 64, 128)\n",
    "        self.fc2 = nn.Linear(128, 64)\n",
    "        self.fc3 = nn.Linear(64, 1)  # Binary classification\n",
    "        self.dropout = nn.Dropout(0.5)\n",
    "\n",
    "    def forward(self, x, angle):\n",
    "        x = self.st_gcn(x)\n",
    "        angle = torch.div(angle, 90, rounding_mode='floor').long()  # Convert angles to 0, 1, 2\n",
    "        angle_embed = self.angle_embedding(angle)\n",
    "        combined = torch.cat([x, angle_embed], dim=1)\n",
    "        x = F.relu(self.fc1(combined))\n",
    "        x = self.dropout(x)\n",
    "        x = F.relu(self.fc2(x))\n",
    "        x = self.dropout(x)\n",
    "        x = self.fc3(x)\n",
    "        return x.squeeze(-1)  # Remove the last dimension if it's 1"
   ]
  },
  {
   "cell_type": "code",
   "execution_count": 7,
   "metadata": {},
   "outputs": [
    {
     "name": "stdout",
     "output_type": "stream",
     "text": [
      "Graph: num_node = 18\n",
      "torch.Size([2])\n"
     ]
    }
   ],
   "source": [
    "# Example usage\n",
    "graph_args = {'layout': 'openpose', 'strategy': 'spatial'}\n",
    "model = ParkinsonsDetectionModel(in_channels=2, graph_args=graph_args, edge_importance_weighting=True)\n",
    "\n",
    "# Example input\n",
    "batch_size = 2\n",
    "num_channels = 2  # X and Y coordinates\n",
    "num_frames = 300\n",
    "num_joints = 18\n",
    "x = torch.randn(batch_size, num_channels, num_frames, num_joints)\n",
    "angle = torch.LongTensor([0, 1])  # Example angles for each sample in the batch\n",
    "\n",
    "# Forward pass\n",
    "output = model(x, angle)\n",
    "print(output.shape)  # Should be [batch_size, 1]"
   ]
  },
  {
   "cell_type": "code",
   "execution_count": 8,
   "metadata": {},
   "outputs": [
    {
     "data": {
      "text/plain": [
       "tensor([0, 1])"
      ]
     },
     "execution_count": 8,
     "metadata": {},
     "output_type": "execute_result"
    }
   ],
   "source": [
    "angle"
   ]
  },
  {
   "cell_type": "code",
   "execution_count": 9,
   "metadata": {},
   "outputs": [
    {
     "name": "stdout",
     "output_type": "stream",
     "text": [
      "tensor([[[[-2.0335,  1.4941, -0.2940,  ...,  0.9594, -0.1077,  1.4888],\n",
      "          [ 0.3492, -0.2053, -0.1154,  ...,  0.2667, -0.9089, -0.4013],\n",
      "          [-1.4240,  0.1997, -1.2834,  ...,  0.6216, -0.3103, -0.2079],\n",
      "          ...,\n",
      "          [ 0.3061, -0.5555,  0.5692,  ..., -0.7460,  2.8792,  0.8326],\n",
      "          [ 0.7999, -0.3021,  0.5384,  ..., -0.3186, -0.5753, -0.5013],\n",
      "          [-0.4910,  0.5218,  0.4255,  ...,  0.2451, -1.2994, -0.4517]],\n",
      "\n",
      "         [[ 1.5659, -0.3193,  0.5577,  ..., -0.5505,  1.7439, -2.0961],\n",
      "          [ 1.3964, -0.2915,  0.0970,  ..., -0.2505, -2.0654, -0.2219],\n",
      "          [ 0.0689, -0.3233, -2.5307,  ...,  0.9248,  0.5405,  0.2090],\n",
      "          ...,\n",
      "          [ 1.7750, -0.4143, -1.4958,  ...,  0.6128, -0.1692,  1.5159],\n",
      "          [-1.4624, -0.9879,  0.8400,  ...,  1.7351, -0.6053, -2.1655],\n",
      "          [-0.1979, -1.6130, -1.5611,  ..., -1.1263,  1.0781, -0.0283]]],\n",
      "\n",
      "\n",
      "        [[[ 2.4037,  0.6105,  0.4014,  ...,  0.9103,  0.7881,  0.4280],\n",
      "          [ 1.5694, -0.3508, -0.3817,  ..., -1.7611,  1.0071,  1.1142],\n",
      "          [-0.6362, -0.0161,  0.5766,  ...,  1.3308,  0.5868, -0.6166],\n",
      "          ...,\n",
      "          [ 0.1548,  0.3733,  0.8610,  ..., -1.3623, -0.3265, -0.8219],\n",
      "          [ 0.3256, -0.5759,  0.3245,  ...,  0.2935,  1.4769,  0.1235],\n",
      "          [ 0.1820,  1.3330,  0.3449,  ...,  0.0897, -0.2903, -0.3921]],\n",
      "\n",
      "         [[-0.0290, -0.0931,  2.4007,  ..., -1.4123, -1.3118,  1.0407],\n",
      "          [-0.0543,  0.6991,  0.2615,  ..., -0.9393, -0.7241, -1.3521],\n",
      "          [-1.0544, -0.3712,  0.9457,  ..., -0.6154,  1.1756,  1.8944],\n",
      "          ...,\n",
      "          [ 0.8187, -1.5377,  0.1371,  ..., -1.4110,  1.1971, -0.5798],\n",
      "          [-0.3137,  1.2954, -2.6260,  ..., -0.2183,  2.1486,  0.1524],\n",
      "          [ 0.1599,  0.2568, -0.1934,  ..., -0.0852,  1.7120, -0.4308]]]])\n"
     ]
    }
   ],
   "source": [
    "print(x)"
   ]
  },
  {
   "cell_type": "code",
   "execution_count": 10,
   "metadata": {},
   "outputs": [
    {
     "data": {
      "text/plain": [
       "tensor([-2.0335,  1.4941, -0.2940,  0.5986, -0.5813, -0.3524,  0.2723, -0.7479,\n",
       "        -0.0283, -0.3284,  0.5232, -0.6634,  0.1028, -1.2395, -1.8757,  0.9594,\n",
       "        -0.1077,  1.4888])"
      ]
     },
     "execution_count": 10,
     "metadata": {},
     "output_type": "execute_result"
    }
   ],
   "source": [
    "x[0][0][0]"
   ]
  },
  {
   "cell_type": "code",
   "execution_count": 11,
   "metadata": {},
   "outputs": [],
   "source": [
    "# Load the CSV file\n",
    "df = pd.read_csv(\"../output_data/output_2D.csv\")\n",
    "\n",
    "# Convert the vector column from string to numpy array\n",
    "df['vector'] = df['vector'].apply(eval).apply(np.array)\n"
   ]
  },
  {
   "cell_type": "code",
   "execution_count": 12,
   "metadata": {},
   "outputs": [
    {
     "data": {
      "text/html": [
       "<div>\n",
       "<style scoped>\n",
       "    .dataframe tbody tr th:only-of-type {\n",
       "        vertical-align: middle;\n",
       "    }\n",
       "\n",
       "    .dataframe tbody tr th {\n",
       "        vertical-align: top;\n",
       "    }\n",
       "\n",
       "    .dataframe thead th {\n",
       "        text-align: right;\n",
       "    }\n",
       "</style>\n",
       "<table border=\"1\" class=\"dataframe\">\n",
       "  <thead>\n",
       "    <tr style=\"text-align: right;\">\n",
       "      <th></th>\n",
       "      <th>client</th>\n",
       "      <th>angle</th>\n",
       "      <th>parkinson</th>\n",
       "      <th>vector</th>\n",
       "    </tr>\n",
       "  </thead>\n",
       "  <tbody>\n",
       "    <tr>\n",
       "      <th>0</th>\n",
       "      <td>1</td>\n",
       "      <td>0</td>\n",
       "      <td>1</td>\n",
       "      <td>[[38.89351272583008, 17.675010681152344], [43....</td>\n",
       "    </tr>\n",
       "    <tr>\n",
       "      <th>1</th>\n",
       "      <td>1</td>\n",
       "      <td>0</td>\n",
       "      <td>1</td>\n",
       "      <td>[[85.9338607788086, 29.34123420715332], [92.69...</td>\n",
       "    </tr>\n",
       "    <tr>\n",
       "      <th>2</th>\n",
       "      <td>1</td>\n",
       "      <td>0</td>\n",
       "      <td>1</td>\n",
       "      <td>[[50.33542251586914, 20.45751190185547], [55.2...</td>\n",
       "    </tr>\n",
       "    <tr>\n",
       "      <th>3</th>\n",
       "      <td>1</td>\n",
       "      <td>0</td>\n",
       "      <td>1</td>\n",
       "      <td>[[44.83964920043945, 21.37966537475586], [50.3...</td>\n",
       "    </tr>\n",
       "    <tr>\n",
       "      <th>4</th>\n",
       "      <td>1</td>\n",
       "      <td>0</td>\n",
       "      <td>1</td>\n",
       "      <td>[[64.98465728759766, 29.381858825683594], [70....</td>\n",
       "    </tr>\n",
       "    <tr>\n",
       "      <th>...</th>\n",
       "      <td>...</td>\n",
       "      <td>...</td>\n",
       "      <td>...</td>\n",
       "      <td>...</td>\n",
       "    </tr>\n",
       "    <tr>\n",
       "      <th>546</th>\n",
       "      <td>1</td>\n",
       "      <td>90</td>\n",
       "      <td>1</td>\n",
       "      <td>[[157.67861938476562, 44.677371978759766], [15...</td>\n",
       "    </tr>\n",
       "    <tr>\n",
       "      <th>547</th>\n",
       "      <td>1</td>\n",
       "      <td>90</td>\n",
       "      <td>1</td>\n",
       "      <td>[[104.82242584228516, 46.87606430053711], [109...</td>\n",
       "    </tr>\n",
       "    <tr>\n",
       "      <th>548</th>\n",
       "      <td>1</td>\n",
       "      <td>90</td>\n",
       "      <td>1</td>\n",
       "      <td>[[135.35787963867188, 49.76270294189453], [138...</td>\n",
       "    </tr>\n",
       "    <tr>\n",
       "      <th>549</th>\n",
       "      <td>1</td>\n",
       "      <td>90</td>\n",
       "      <td>1</td>\n",
       "      <td>[[133.68704223632812, 43.090797424316406], [13...</td>\n",
       "    </tr>\n",
       "    <tr>\n",
       "      <th>550</th>\n",
       "      <td>1</td>\n",
       "      <td>90</td>\n",
       "      <td>1</td>\n",
       "      <td>[[113.06315612792969, 45.045780181884766], [0....</td>\n",
       "    </tr>\n",
       "  </tbody>\n",
       "</table>\n",
       "<p>551 rows × 4 columns</p>\n",
       "</div>"
      ],
      "text/plain": [
       "     client  angle  parkinson  \\\n",
       "0         1      0          1   \n",
       "1         1      0          1   \n",
       "2         1      0          1   \n",
       "3         1      0          1   \n",
       "4         1      0          1   \n",
       "..      ...    ...        ...   \n",
       "546       1     90          1   \n",
       "547       1     90          1   \n",
       "548       1     90          1   \n",
       "549       1     90          1   \n",
       "550       1     90          1   \n",
       "\n",
       "                                                vector  \n",
       "0    [[38.89351272583008, 17.675010681152344], [43....  \n",
       "1    [[85.9338607788086, 29.34123420715332], [92.69...  \n",
       "2    [[50.33542251586914, 20.45751190185547], [55.2...  \n",
       "3    [[44.83964920043945, 21.37966537475586], [50.3...  \n",
       "4    [[64.98465728759766, 29.381858825683594], [70....  \n",
       "..                                                 ...  \n",
       "546  [[157.67861938476562, 44.677371978759766], [15...  \n",
       "547  [[104.82242584228516, 46.87606430053711], [109...  \n",
       "548  [[135.35787963867188, 49.76270294189453], [138...  \n",
       "549  [[133.68704223632812, 43.090797424316406], [13...  \n",
       "550  [[113.06315612792969, 45.045780181884766], [0....  \n",
       "\n",
       "[551 rows x 4 columns]"
      ]
     },
     "execution_count": 12,
     "metadata": {},
     "output_type": "execute_result"
    }
   ],
   "source": [
    "df"
   ]
  },
  {
   "cell_type": "code",
   "execution_count": 13,
   "metadata": {},
   "outputs": [],
   "source": [
    "#get max length of the vectors\n",
    "max_length = df['vector'].apply(len).max()\n",
    "\n",
    "# Pad the vectors to the max length\n",
    "df['vector'] = df['vector'].apply(lambda x: np.pad(x, ((0, max_length - len(x)), (0, 0))))"
   ]
  },
  {
   "cell_type": "code",
   "execution_count": 14,
   "metadata": {},
   "outputs": [
    {
     "data": {
      "text/html": [
       "<div>\n",
       "<style scoped>\n",
       "    .dataframe tbody tr th:only-of-type {\n",
       "        vertical-align: middle;\n",
       "    }\n",
       "\n",
       "    .dataframe tbody tr th {\n",
       "        vertical-align: top;\n",
       "    }\n",
       "\n",
       "    .dataframe thead th {\n",
       "        text-align: right;\n",
       "    }\n",
       "</style>\n",
       "<table border=\"1\" class=\"dataframe\">\n",
       "  <thead>\n",
       "    <tr style=\"text-align: right;\">\n",
       "      <th></th>\n",
       "      <th>client</th>\n",
       "      <th>angle</th>\n",
       "      <th>parkinson</th>\n",
       "      <th>vector</th>\n",
       "    </tr>\n",
       "  </thead>\n",
       "  <tbody>\n",
       "    <tr>\n",
       "      <th>0</th>\n",
       "      <td>1</td>\n",
       "      <td>0</td>\n",
       "      <td>1</td>\n",
       "      <td>[[38.89351272583008, 17.675010681152344], [43....</td>\n",
       "    </tr>\n",
       "    <tr>\n",
       "      <th>1</th>\n",
       "      <td>1</td>\n",
       "      <td>0</td>\n",
       "      <td>1</td>\n",
       "      <td>[[85.9338607788086, 29.34123420715332], [92.69...</td>\n",
       "    </tr>\n",
       "    <tr>\n",
       "      <th>2</th>\n",
       "      <td>1</td>\n",
       "      <td>0</td>\n",
       "      <td>1</td>\n",
       "      <td>[[50.33542251586914, 20.45751190185547], [55.2...</td>\n",
       "    </tr>\n",
       "    <tr>\n",
       "      <th>3</th>\n",
       "      <td>1</td>\n",
       "      <td>0</td>\n",
       "      <td>1</td>\n",
       "      <td>[[44.83964920043945, 21.37966537475586], [50.3...</td>\n",
       "    </tr>\n",
       "    <tr>\n",
       "      <th>4</th>\n",
       "      <td>1</td>\n",
       "      <td>0</td>\n",
       "      <td>1</td>\n",
       "      <td>[[64.98465728759766, 29.381858825683594], [70....</td>\n",
       "    </tr>\n",
       "    <tr>\n",
       "      <th>...</th>\n",
       "      <td>...</td>\n",
       "      <td>...</td>\n",
       "      <td>...</td>\n",
       "      <td>...</td>\n",
       "    </tr>\n",
       "    <tr>\n",
       "      <th>546</th>\n",
       "      <td>1</td>\n",
       "      <td>90</td>\n",
       "      <td>1</td>\n",
       "      <td>[[157.67861938476562, 44.677371978759766], [15...</td>\n",
       "    </tr>\n",
       "    <tr>\n",
       "      <th>547</th>\n",
       "      <td>1</td>\n",
       "      <td>90</td>\n",
       "      <td>1</td>\n",
       "      <td>[[104.82242584228516, 46.87606430053711], [109...</td>\n",
       "    </tr>\n",
       "    <tr>\n",
       "      <th>548</th>\n",
       "      <td>1</td>\n",
       "      <td>90</td>\n",
       "      <td>1</td>\n",
       "      <td>[[135.35787963867188, 49.76270294189453], [138...</td>\n",
       "    </tr>\n",
       "    <tr>\n",
       "      <th>549</th>\n",
       "      <td>1</td>\n",
       "      <td>90</td>\n",
       "      <td>1</td>\n",
       "      <td>[[133.68704223632812, 43.090797424316406], [13...</td>\n",
       "    </tr>\n",
       "    <tr>\n",
       "      <th>550</th>\n",
       "      <td>1</td>\n",
       "      <td>90</td>\n",
       "      <td>1</td>\n",
       "      <td>[[113.06315612792969, 45.045780181884766], [0....</td>\n",
       "    </tr>\n",
       "  </tbody>\n",
       "</table>\n",
       "<p>551 rows × 4 columns</p>\n",
       "</div>"
      ],
      "text/plain": [
       "     client  angle  parkinson  \\\n",
       "0         1      0          1   \n",
       "1         1      0          1   \n",
       "2         1      0          1   \n",
       "3         1      0          1   \n",
       "4         1      0          1   \n",
       "..      ...    ...        ...   \n",
       "546       1     90          1   \n",
       "547       1     90          1   \n",
       "548       1     90          1   \n",
       "549       1     90          1   \n",
       "550       1     90          1   \n",
       "\n",
       "                                                vector  \n",
       "0    [[38.89351272583008, 17.675010681152344], [43....  \n",
       "1    [[85.9338607788086, 29.34123420715332], [92.69...  \n",
       "2    [[50.33542251586914, 20.45751190185547], [55.2...  \n",
       "3    [[44.83964920043945, 21.37966537475586], [50.3...  \n",
       "4    [[64.98465728759766, 29.381858825683594], [70....  \n",
       "..                                                 ...  \n",
       "546  [[157.67861938476562, 44.677371978759766], [15...  \n",
       "547  [[104.82242584228516, 46.87606430053711], [109...  \n",
       "548  [[135.35787963867188, 49.76270294189453], [138...  \n",
       "549  [[133.68704223632812, 43.090797424316406], [13...  \n",
       "550  [[113.06315612792969, 45.045780181884766], [0....  \n",
       "\n",
       "[551 rows x 4 columns]"
      ]
     },
     "execution_count": 14,
     "metadata": {},
     "output_type": "execute_result"
    }
   ],
   "source": [
    "df"
   ]
  },
  {
   "cell_type": "code",
   "execution_count": 15,
   "metadata": {},
   "outputs": [],
   "source": [
    "def parse_vector(vector):\n",
    "    vector_array = np.array(vector)\n",
    "    # Ensure we have exactly 34 joints with 2 coordinates each\n",
    "    if vector_array.shape[0] != 18 or vector_array.shape[1] != 2:\n",
    "        padded = np.zeros((18, 2))\n",
    "        padded[:min(vector_array.shape[0], 18), :min(vector_array.shape[1], 2)] = vector_array[:18, :2]\n",
    "        return padded\n",
    "    return vector_array\n",
    "\n"
   ]
  },
  {
   "cell_type": "code",
   "execution_count": 16,
   "metadata": {},
   "outputs": [
    {
     "name": "stdout",
     "output_type": "stream",
     "text": [
      "Pose data shape after reshaping: (551, 2, 1, 18)\n",
      "Final pose data tensor shape: torch.Size([551, 2, 1, 18])\n"
     ]
    }
   ],
   "source": [
    "# Parse and stack the pose data\n",
    "pose_data = np.stack(df['vector'].apply(parse_vector).values)\n",
    "\n",
    "# Reshape to [N, C, T, V]\n",
    "N, V, C = pose_data.shape\n",
    "T = 1  # Assuming each sample is a single frame\n",
    "pose_data = pose_data.transpose(0, 2, 1).reshape(N, C, T, V)\n",
    "\n",
    "print(\"Pose data shape after reshaping:\", pose_data.shape)\n",
    "\n",
    "# Convert to torch tensors\n",
    "pose_data_tensor = torch.FloatTensor(pose_data)\n",
    "angles_tensor = torch.LongTensor(df['angle'].values)\n",
    "labels_tensor = torch.FloatTensor(df['parkinson'].values)\n",
    "\n",
    "print(\"Final pose data tensor shape:\", pose_data_tensor.shape)"
   ]
  },
  {
   "cell_type": "code",
   "execution_count": 17,
   "metadata": {},
   "outputs": [
    {
     "name": "stdout",
     "output_type": "stream",
     "text": [
      "Pose data shape: torch.Size([551, 2, 1, 18])\n"
     ]
    }
   ],
   "source": [
    "print(\"Pose data shape:\", pose_data_tensor.shape)"
   ]
  },
  {
   "cell_type": "code",
   "execution_count": 18,
   "metadata": {},
   "outputs": [
    {
     "data": {
      "text/plain": [
       "tensor([38.8935, 43.8592, 35.0178, 51.7123, 29.7362, 62.4427, 19.7756, 76.1154,\n",
       "         5.2351, 76.3991,  4.9302, 54.7671, 27.9492, 55.6615, 27.8608, 55.0021,\n",
       "        31.3362,  0.0000])"
      ]
     },
     "execution_count": 18,
     "metadata": {},
     "output_type": "execute_result"
    }
   ],
   "source": [
    "pose_data_tensor[0][0][0]"
   ]
  },
  {
   "cell_type": "code",
   "execution_count": 19,
   "metadata": {},
   "outputs": [
    {
     "name": "stdout",
     "output_type": "stream",
     "text": [
      "Graph: num_node = 18\n"
     ]
    }
   ],
   "source": [
    "graph_args = {'layout': 'openpose', 'strategy': 'spatial'}\n",
    "in_channels = pose_data_tensor.shape[1]\n",
    "model = ParkinsonsDetectionModel(in_channels=in_channels, graph_args=graph_args, edge_importance_weighting=True)\n"
   ]
  },
  {
   "cell_type": "code",
   "execution_count": 21,
   "metadata": {},
   "outputs": [
    {
     "name": "stdout",
     "output_type": "stream",
     "text": [
      "Epoch [1/3], Loss: 0.0625\n",
      "Epoch [2/3], Loss: 0.0001\n",
      "Epoch [3/3], Loss: 0.0000\n"
     ]
    }
   ],
   "source": [
    "device = torch.device('cuda' if torch.cuda.is_available() else 'cpu')\n",
    "model = model.to(device)\n",
    "pose_data_tensor = pose_data_tensor.to(device)\n",
    "angles_tensor = angles_tensor.to(device)\n",
    "labels_tensor = labels_tensor.to(device)\n",
    "criterion = nn.BCEWithLogitsLoss()  # Use BCEWithLogitsLoss instead of BCELoss\n",
    "optimizer = torch.optim.Adam(model.parameters(), lr=0.001)\n",
    "num_epochs = 3\n",
    "batch_size = 10  # or whatever size works for your memory constraints\n",
    "\n",
    "\n",
    "for epoch in range(num_epochs):\n",
    "    model.train()\n",
    "    total_loss = 0\n",
    "    for i in range(0, pose_data_tensor.size(0), batch_size):\n",
    "        # Get batch\n",
    "        batch_pose = pose_data_tensor[i:i+batch_size]\n",
    "        batch_angles = angles_tensor[i:i+batch_size]\n",
    "        batch_labels = labels_tensor[i:i+batch_size]\n",
    "\n",
    "        # Forward pass\n",
    "        outputs = model(batch_pose, batch_angles)\n",
    "        loss = criterion(outputs, batch_labels)\n",
    "\n",
    "        # Backward pass and optimize\n",
    "        optimizer.zero_grad()\n",
    "        loss.backward()\n",
    "        optimizer.step()\n",
    "\n",
    "        total_loss += loss.item()\n",
    "\n",
    "    avg_loss = total_loss / (pose_data_tensor.size(0) // batch_size)\n",
    "    print(f\"Epoch [{epoch+1}/{num_epochs}], Loss: {avg_loss:.4f}\")"
   ]
  },
  {
   "cell_type": "code",
   "execution_count": 22,
   "metadata": {},
   "outputs": [
    {
     "name": "stdout",
     "output_type": "stream",
     "text": [
      "Accuracy: 1.0\n"
     ]
    }
   ],
   "source": [
    "# For inference:\n",
    "model.eval()\n",
    "with torch.no_grad():\n",
    "    outputs = model(pose_data_tensor, angles_tensor)\n",
    "    predicted = (outputs.squeeze() > 0.5).float()  # Threshold at 0.5 for binary classification\n",
    "    accuracy = (predicted == labels_tensor).float().mean()\n",
    "    print(\"Accuracy:\", accuracy.item())"
   ]
  }
 ],
 "metadata": {
  "kernelspec": {
   "display_name": "base",
   "language": "python",
   "name": "python3"
  },
  "language_info": {
   "codemirror_mode": {
    "name": "ipython",
    "version": 3
   },
   "file_extension": ".py",
   "mimetype": "text/x-python",
   "name": "python",
   "nbconvert_exporter": "python",
   "pygments_lexer": "ipython3",
   "version": "3.9.12"
  }
 },
 "nbformat": 4,
 "nbformat_minor": 2
}
