{
 "cells": [
  {
   "cell_type": "code",
   "execution_count": 1,
   "metadata": {},
   "outputs": [],
   "source": [
    "import torch\n",
    "import torch.nn as nn\n",
    "import torch.nn.functional as F\n",
    "import numpy as np\n",
    "import pandas as pd"
   ]
  },
  {
   "cell_type": "code",
   "execution_count": 2,
   "metadata": {},
   "outputs": [],
   "source": [
    "class Graph():\n",
    "    def __init__(self, layout='openpose', strategy='spatial'):\n",
    "        self.get_edge(layout)\n",
    "        self.hop_dis = self.get_hop_distance(self.num_node, self.edge)\n",
    "        self.get_adjacency(strategy)\n",
    "\n",
    "    def get_edge(self, layout):\n",
    "        if layout == 'openpose':\n",
    "            self.num_node = 18  # or whatever number matches your data\n",
    "            print(f\"Graph: num_node = {self.num_node}\")\n",
    "            self_link = [(i, i) for i in range(self.num_node)]\n",
    "            neighbor_link = [(4, 3), (3, 2), (7, 6), (6, 5), (13, 12), (12, 11),\n",
    "                             (10, 9), (9, 8), (11, 5), (8, 2), (5, 1), (2, 1),\n",
    "                             (0, 1), (15, 0), (14, 0), (17, 15), (16, 14)]\n",
    "            self.edge = self_link + neighbor_link\n",
    "            self.center = 1\n",
    "        else:\n",
    "            raise ValueError(\"Do not support this layout.\")\n",
    "\n",
    "    def get_hop_distance(self, num_node, edge, max_hop=1):\n",
    "        A = np.zeros((num_node, num_node))\n",
    "        for i, j in edge:\n",
    "            A[j, i] = 1\n",
    "            A[i, j] = 1\n",
    "\n",
    "        hop_dis = np.zeros((num_node, num_node)) + np.inf\n",
    "        transfer_mat = [np.linalg.matrix_power(A, d) for d in range(max_hop + 1)]\n",
    "        arrive_mat = (np.stack(transfer_mat) > 0)\n",
    "        for d in range(max_hop, -1, -1):\n",
    "            hop_dis[arrive_mat[d]] = d\n",
    "        return hop_dis\n",
    "\n",
    "    def get_adjacency(self, strategy):\n",
    "        valid_hop = range(0, self.num_node - 1)\n",
    "        adjacency = np.zeros((self.num_node, self.num_node))\n",
    "        for hop in valid_hop:\n",
    "            adjacency[self.hop_dis == hop] = 1\n",
    "        normalize_adjacency = self.normalize_digraph(adjacency)\n",
    "\n",
    "        if strategy == 'uniform':\n",
    "            A = np.zeros((1, self.num_node, self.num_node))\n",
    "            A[0] = normalize_adjacency\n",
    "            self.A = A\n",
    "        elif strategy == 'distance':\n",
    "            A = np.zeros((len(valid_hop), self.num_node, self.num_node))\n",
    "            for i, hop in enumerate(valid_hop):\n",
    "                A[i][self.hop_dis == hop] = normalize_adjacency[self.hop_dis == hop]\n",
    "            self.A = A\n",
    "        elif strategy == 'spatial':\n",
    "            A = []\n",
    "            for hop in valid_hop:\n",
    "                a_root = np.zeros((self.num_node, self.num_node))\n",
    "                a_close = np.zeros((self.num_node, self.num_node))\n",
    "                a_further = np.zeros((self.num_node, self.num_node))\n",
    "                for i in range(self.num_node):\n",
    "                    for j in range(self.num_node):\n",
    "                        if self.hop_dis[j, i] == hop:\n",
    "                            if self.hop_dis[j, self.center] == self.hop_dis[i, self.center]:\n",
    "                                a_root[j, i] = normalize_adjacency[j, i]\n",
    "                            elif self.hop_dis[j, self.center] > self.hop_dis[i, self.center]:\n",
    "                                a_close[j, i] = normalize_adjacency[j, i]\n",
    "                            else:\n",
    "                                a_further[j, i] = normalize_adjacency[j, i]\n",
    "                if hop == 0:\n",
    "                    A.append(a_root)\n",
    "                else:\n",
    "                    A.append(a_root + a_close)\n",
    "                    A.append(a_further)\n",
    "            A = np.stack(A)\n",
    "            self.A = A\n",
    "        else:\n",
    "            raise ValueError(\"Do not support this strategy.\")\n",
    "\n",
    "    def normalize_digraph(self, A):\n",
    "        Dl = np.sum(A, 0)\n",
    "        num_node = A.shape[0]\n",
    "        Dn = np.zeros((num_node, num_node))\n",
    "        for i in range(num_node):\n",
    "            if Dl[i] > 0:\n",
    "                Dn[i, i] = Dl[i]**(-1)\n",
    "        AD = np.dot(A, Dn)\n",
    "        return AD"
   ]
  },
  {
   "cell_type": "code",
   "execution_count": 3,
   "metadata": {},
   "outputs": [],
   "source": [
    "class ConvTemporalGraphical(nn.Module):\n",
    "    def __init__(self, in_channels, out_channels, kernel_size, t_kernel_size=1, t_stride=1, t_padding=0, t_dilation=1, bias=True):\n",
    "        super().__init__()\n",
    "        self.kernel_size = kernel_size\n",
    "        self.conv = nn.Conv2d(in_channels, out_channels * kernel_size, kernel_size=(t_kernel_size, 1), \n",
    "                              padding=(t_padding, 0), stride=(t_stride, 1), dilation=(t_dilation, 1), bias=bias)\n",
    "\n",
    "    def forward(self, x, A):\n",
    "        assert A.size(0) == self.kernel_size\n",
    "        x = self.conv(x)\n",
    "        n, kc, t, v = x.size()\n",
    "        x = x.view(n, self.kernel_size, kc//self.kernel_size, t, v)\n",
    "        x = torch.einsum('nkctv,kvw->nctw', (x, A))\n",
    "        return x.contiguous(), A\n",
    "\n"
   ]
  },
  {
   "cell_type": "code",
   "execution_count": 4,
   "metadata": {},
   "outputs": [],
   "source": [
    "class STGCNBlock(nn.Module):\n",
    "    def __init__(self, in_channels, out_channels, kernel_size, stride=1, dropout=0, residual=True):\n",
    "        super().__init__()\n",
    "        assert len(kernel_size) == 2\n",
    "        assert kernel_size[0] % 2 == 1\n",
    "        padding = ((kernel_size[0] - 1) // 2, 0)\n",
    "        \n",
    "        self.gcn = ConvTemporalGraphical(in_channels, out_channels, kernel_size[1])\n",
    "        self.tcn = nn.Sequential(\n",
    "            nn.BatchNorm2d(out_channels),\n",
    "            nn.ReLU(inplace=True),\n",
    "            nn.Conv2d(out_channels, out_channels, (kernel_size[0], 1), (stride, 1), padding),\n",
    "            nn.BatchNorm2d(out_channels),\n",
    "            nn.Dropout(dropout, inplace=True)\n",
    "        )\n",
    "        \n",
    "        if not residual:\n",
    "            self.residual = lambda x: 0\n",
    "        elif (in_channels == out_channels) and (stride == 1):\n",
    "            self.residual = lambda x: x\n",
    "        else:\n",
    "            self.residual = nn.Sequential(\n",
    "                nn.Conv2d(in_channels, out_channels, kernel_size=1, stride=(stride, 1)),\n",
    "                nn.BatchNorm2d(out_channels)\n",
    "            )\n",
    "        \n",
    "        self.relu = nn.ReLU(inplace=True)\n",
    "    \n",
    "    def forward(self, x, A):\n",
    "        res = self.residual(x)\n",
    "        x, A = self.gcn(x, A)\n",
    "        x = self.tcn(x) + res\n",
    "        return self.relu(x), A"
   ]
  },
  {
   "cell_type": "code",
   "execution_count": 5,
   "metadata": {},
   "outputs": [],
   "source": [
    "class STGCN(nn.Module):\n",
    "    def __init__(self, in_channels, graph_args, edge_importance_weighting, **kwargs):\n",
    "        super().__init__()\n",
    "        self.graph = Graph(**graph_args)\n",
    "        A = torch.tensor(self.graph.A, dtype=torch.float32, requires_grad=False)\n",
    "        self.register_buffer('A', A)\n",
    "        \n",
    "        spatial_kernel_size = A.size(0)\n",
    "        temporal_kernel_size = 9\n",
    "        kernel_size = (temporal_kernel_size, spatial_kernel_size)\n",
    "        \n",
    "        # Replace BatchNorm with GroupNorm\n",
    "        self.data_bn = nn.GroupNorm(num_groups=4, num_channels=in_channels * A.size(1))\n",
    "        \n",
    "        self.st_gcn_networks = nn.ModuleList((\n",
    "            STGCNBlock(in_channels, 64, kernel_size, stride=1, residual=False),\n",
    "            STGCNBlock(64, 64, kernel_size, stride=1),\n",
    "            STGCNBlock(64, 64, kernel_size, stride=1),\n",
    "            STGCNBlock(64, 64, kernel_size, stride=1),\n",
    "            STGCNBlock(64, 128, kernel_size, stride=2),\n",
    "            STGCNBlock(128, 128, kernel_size, stride=1),\n",
    "            STGCNBlock(128, 128, kernel_size, stride=1),\n",
    "            STGCNBlock(128, 256, kernel_size, stride=2),\n",
    "            STGCNBlock(256, 256, kernel_size, stride=1),\n",
    "            STGCNBlock(256, 256, kernel_size, stride=1)\n",
    "        ))\n",
    "        \n",
    "        if edge_importance_weighting:\n",
    "            self.edge_importance = nn.ParameterList([\n",
    "                nn.Parameter(torch.ones(self.A.size()))\n",
    "                for i in self.st_gcn_networks\n",
    "            ])\n",
    "        else:\n",
    "            self.edge_importance = [1] * len(self.st_gcn_networks)\n",
    "    \n",
    "    def forward(self, x):\n",
    "        N, C, T, V = x.size()\n",
    "        x = x.permute(0, 3, 1, 2).contiguous()\n",
    "        x = x.view(N, V * C, T)\n",
    "        x = self.data_bn(x)\n",
    "        x = x.view(N, V, C, T)\n",
    "        x = x.permute(0, 2, 3, 1).contiguous()\n",
    "        x = x.view(N, C, T, V)\n",
    "        \n",
    "        for gcn, importance in zip(self.st_gcn_networks, self.edge_importance):\n",
    "            x, _ = gcn(x, self.A * importance)\n",
    "        \n",
    "        x = F.avg_pool2d(x, x.size()[2:])\n",
    "        x = x.view(N, -1)\n",
    "        \n",
    "        return x\n",
    "\n"
   ]
  },
  {
   "cell_type": "code",
   "execution_count": 6,
   "metadata": {},
   "outputs": [],
   "source": [
    "class ParkinsonsDetectionModel(nn.Module):\n",
    "    def __init__(self, in_channels, graph_args, edge_importance_weighting, **kwargs):\n",
    "        super().__init__()\n",
    "        self.st_gcn = STGCN(in_channels, graph_args, edge_importance_weighting, **kwargs)\n",
    "        self.angle_embedding = nn.Embedding(3, 64)  # 3 angles (0, 90, 180), embedding size 64\n",
    "        self.fc1 = nn.Linear(256 + 64, 128)\n",
    "        self.fc2 = nn.Linear(128, 64)\n",
    "        self.fc3 = nn.Linear(64, 1)  # Binary classification\n",
    "        self.dropout = nn.Dropout(0.5)\n",
    "\n",
    "    def forward(self, x, angle):\n",
    "        x = self.st_gcn(x)\n",
    "        angle = torch.div(angle, 90, rounding_mode='floor').long()  # Convert angles to 0, 1, 2\n",
    "        angle_embed = self.angle_embedding(angle)\n",
    "        combined = torch.cat([x, angle_embed], dim=1)\n",
    "        x = F.relu(self.fc1(combined))\n",
    "        x = self.dropout(x)\n",
    "        x = F.relu(self.fc2(x))\n",
    "        x = self.dropout(x)\n",
    "        x = self.fc3(x)\n",
    "        return x.squeeze(-1)  # Remove the last dimension if it's 1"
   ]
  },
  {
   "cell_type": "code",
   "execution_count": 7,
   "metadata": {},
   "outputs": [
    {
     "name": "stdout",
     "output_type": "stream",
     "text": [
      "Graph: num_node = 18\n",
      "torch.Size([2])\n"
     ]
    }
   ],
   "source": [
    "# Example usage\n",
    "graph_args = {'layout': 'openpose', 'strategy': 'spatial'}\n",
    "model = ParkinsonsDetectionModel(in_channels=2, graph_args=graph_args, edge_importance_weighting=True)\n",
    "\n",
    "# Example input\n",
    "batch_size = 2\n",
    "num_channels = 2  # X and Y coordinates\n",
    "num_frames = 300\n",
    "num_joints = 18\n",
    "x = torch.randn(batch_size, num_channels, num_frames, num_joints)\n",
    "angle = torch.LongTensor([0, 1])  # Example angles for each sample in the batch\n",
    "\n",
    "# Forward pass\n",
    "output = model(x, angle)\n",
    "print(output.shape)  # Should be [batch_size, 1]"
   ]
  },
  {
   "cell_type": "code",
   "execution_count": 8,
   "metadata": {},
   "outputs": [
    {
     "data": {
      "text/plain": [
       "tensor([0, 1])"
      ]
     },
     "execution_count": 8,
     "metadata": {},
     "output_type": "execute_result"
    }
   ],
   "source": [
    "angle"
   ]
  },
  {
   "cell_type": "code",
   "execution_count": 9,
   "metadata": {},
   "outputs": [
    {
     "name": "stdout",
     "output_type": "stream",
     "text": [
      "tensor([[[[-0.7788, -0.3690,  0.5315,  ...,  0.4206, -0.1521,  0.2307],\n",
      "          [ 1.1751,  2.3856,  2.1379,  ..., -1.2169, -1.4468,  0.3500],\n",
      "          [-1.5821, -1.6973,  1.1190,  ...,  1.8172, -0.3194, -0.3804],\n",
      "          ...,\n",
      "          [ 2.0674,  0.3439, -0.3786,  ...,  0.9233,  0.4820,  0.8111],\n",
      "          [-0.1290,  0.6276,  0.0278,  ..., -0.0927,  0.0331,  0.6403],\n",
      "          [-0.0138,  0.4137,  0.2196,  ...,  1.7786, -0.3764, -0.7670]],\n",
      "\n",
      "         [[ 0.4267, -0.0086, -0.0204,  ..., -1.5524,  1.1021, -0.4697],\n",
      "          [-0.7394, -0.6552,  0.2697,  ...,  0.4416,  0.4575, -0.1352],\n",
      "          [ 0.5712,  2.0594,  1.3177,  ...,  1.5470,  0.0168, -0.9410],\n",
      "          ...,\n",
      "          [ 1.3569, -0.7888,  0.3762,  ...,  1.0889, -1.2438, -1.2848],\n",
      "          [-0.0908,  1.1980, -1.2970,  ..., -1.1897, -0.9275,  0.2593],\n",
      "          [-0.8338,  0.6308,  0.3834,  ..., -0.9981,  1.4385,  0.3266]]],\n",
      "\n",
      "\n",
      "        [[[ 0.9818, -1.5752, -0.9784,  ..., -0.6325, -1.0259, -0.6383],\n",
      "          [-0.3131, -0.1535,  0.8521,  ..., -0.8864, -0.5998,  0.8781],\n",
      "          [-0.6347, -0.2998, -0.5479,  ..., -0.7997, -0.3679,  0.0960],\n",
      "          ...,\n",
      "          [-0.8878,  0.0558, -1.5151,  ...,  0.8985,  0.6864, -2.8346],\n",
      "          [ 2.4837,  1.9888,  1.7576,  ..., -0.7960, -1.6123, -0.3395],\n",
      "          [ 0.5366,  0.7827, -1.3152,  ..., -0.5838, -0.9293, -1.3620]],\n",
      "\n",
      "         [[ 1.4730,  0.2735,  0.0086,  ..., -1.4051, -0.9093,  0.2243],\n",
      "          [-1.1986, -0.6144,  0.7465,  ..., -1.5490, -0.4053, -0.3601],\n",
      "          [-0.9353, -1.4616, -0.4450,  ...,  0.1478, -0.2090,  1.5643],\n",
      "          ...,\n",
      "          [-1.5827, -2.2503,  0.6633,  ...,  0.5295,  0.8965,  0.0284],\n",
      "          [-0.0289,  2.6126,  0.8523,  ...,  0.9368,  1.6344, -0.4657],\n",
      "          [ 2.3034, -0.2670,  1.1029,  ...,  0.1293, -1.0432, -1.1055]]]])\n"
     ]
    }
   ],
   "source": [
    "print(x)"
   ]
  },
  {
   "cell_type": "code",
   "execution_count": 10,
   "metadata": {},
   "outputs": [
    {
     "data": {
      "text/plain": [
       "tensor([-0.7788, -0.3690,  0.5315,  0.5956, -0.3447,  2.1009,  0.3247,  0.4728,\n",
       "         1.9475, -0.1901,  1.5584, -1.1212,  0.4343, -0.6192,  0.4583,  0.4206,\n",
       "        -0.1521,  0.2307])"
      ]
     },
     "execution_count": 10,
     "metadata": {},
     "output_type": "execute_result"
    }
   ],
   "source": [
    "x[0][0][0]"
   ]
  },
  {
   "cell_type": "code",
   "execution_count": 21,
   "metadata": {},
   "outputs": [],
   "source": [
    "# Load the CSV file\n",
    "df = pd.read_csv(\"../output_data/output_2D.csv\")\n",
    "\n",
    "# Convert the vector column from string to numpy array\n",
    "df['vector'] = df['vector'].apply(eval).apply(np.array)\n"
   ]
  },
  {
   "cell_type": "code",
   "execution_count": 25,
   "metadata": {},
   "outputs": [
    {
     "data": {
      "text/html": [
       "<div>\n",
       "<style scoped>\n",
       "    .dataframe tbody tr th:only-of-type {\n",
       "        vertical-align: middle;\n",
       "    }\n",
       "\n",
       "    .dataframe tbody tr th {\n",
       "        vertical-align: top;\n",
       "    }\n",
       "\n",
       "    .dataframe thead th {\n",
       "        text-align: right;\n",
       "    }\n",
       "</style>\n",
       "<table border=\"1\" class=\"dataframe\">\n",
       "  <thead>\n",
       "    <tr style=\"text-align: right;\">\n",
       "      <th></th>\n",
       "      <th>client</th>\n",
       "      <th>angle</th>\n",
       "      <th>parkinson</th>\n",
       "      <th>vector</th>\n",
       "    </tr>\n",
       "  </thead>\n",
       "  <tbody>\n",
       "    <tr>\n",
       "      <th>0</th>\n",
       "      <td>1</td>\n",
       "      <td>0</td>\n",
       "      <td>1</td>\n",
       "      <td>[[54.766632080078125, 14.624755859375], [59.95...</td>\n",
       "    </tr>\n",
       "    <tr>\n",
       "      <th>1</th>\n",
       "      <td>1</td>\n",
       "      <td>0</td>\n",
       "      <td>1</td>\n",
       "      <td>[[55.523643493652344, 31.943103790283203], [62...</td>\n",
       "    </tr>\n",
       "    <tr>\n",
       "      <th>2</th>\n",
       "      <td>1</td>\n",
       "      <td>0</td>\n",
       "      <td>1</td>\n",
       "      <td>[[53.158626556396484, 23.652265548706055], [0....</td>\n",
       "    </tr>\n",
       "    <tr>\n",
       "      <th>3</th>\n",
       "      <td>1</td>\n",
       "      <td>0</td>\n",
       "      <td>1</td>\n",
       "      <td>[[54.80318832397461, 9.729766845703125], [0.0,...</td>\n",
       "    </tr>\n",
       "    <tr>\n",
       "      <th>4</th>\n",
       "      <td>1</td>\n",
       "      <td>0</td>\n",
       "      <td>1</td>\n",
       "      <td>[[0.0, 0.0], [0.0, 0.0], [0.0, 0.0], [0.0, 0.0...</td>\n",
       "    </tr>\n",
       "    <tr>\n",
       "      <th>...</th>\n",
       "      <td>...</td>\n",
       "      <td>...</td>\n",
       "      <td>...</td>\n",
       "      <td>...</td>\n",
       "    </tr>\n",
       "    <tr>\n",
       "      <th>39585</th>\n",
       "      <td>9</td>\n",
       "      <td>180</td>\n",
       "      <td>0</td>\n",
       "      <td>[[0.0, 0.0], [0.0, 0.0], [0.0, 0.0], [48.35810...</td>\n",
       "    </tr>\n",
       "    <tr>\n",
       "      <th>39586</th>\n",
       "      <td>9</td>\n",
       "      <td>180</td>\n",
       "      <td>0</td>\n",
       "      <td>[[0.0, 0.0], [0.0, 0.0], [0.0, 0.0], [29.57067...</td>\n",
       "    </tr>\n",
       "    <tr>\n",
       "      <th>39587</th>\n",
       "      <td>9</td>\n",
       "      <td>180</td>\n",
       "      <td>0</td>\n",
       "      <td>[[0.0, 0.0], [0.0, 0.0], [0.0, 0.0], [138.8289...</td>\n",
       "    </tr>\n",
       "    <tr>\n",
       "      <th>39588</th>\n",
       "      <td>9</td>\n",
       "      <td>180</td>\n",
       "      <td>0</td>\n",
       "      <td>[[0.0, 0.0], [0.0, 0.0], [0.0, 0.0], [53.21421...</td>\n",
       "    </tr>\n",
       "    <tr>\n",
       "      <th>39589</th>\n",
       "      <td>9</td>\n",
       "      <td>180</td>\n",
       "      <td>0</td>\n",
       "      <td>[[0.0, 0.0], [0.0, 0.0], [0.0, 0.0], [0.0, 0.0...</td>\n",
       "    </tr>\n",
       "  </tbody>\n",
       "</table>\n",
       "<p>39590 rows × 4 columns</p>\n",
       "</div>"
      ],
      "text/plain": [
       "       client  angle  parkinson  \\\n",
       "0           1      0          1   \n",
       "1           1      0          1   \n",
       "2           1      0          1   \n",
       "3           1      0          1   \n",
       "4           1      0          1   \n",
       "...       ...    ...        ...   \n",
       "39585       9    180          0   \n",
       "39586       9    180          0   \n",
       "39587       9    180          0   \n",
       "39588       9    180          0   \n",
       "39589       9    180          0   \n",
       "\n",
       "                                                  vector  \n",
       "0      [[54.766632080078125, 14.624755859375], [59.95...  \n",
       "1      [[55.523643493652344, 31.943103790283203], [62...  \n",
       "2      [[53.158626556396484, 23.652265548706055], [0....  \n",
       "3      [[54.80318832397461, 9.729766845703125], [0.0,...  \n",
       "4      [[0.0, 0.0], [0.0, 0.0], [0.0, 0.0], [0.0, 0.0...  \n",
       "...                                                  ...  \n",
       "39585  [[0.0, 0.0], [0.0, 0.0], [0.0, 0.0], [48.35810...  \n",
       "39586  [[0.0, 0.0], [0.0, 0.0], [0.0, 0.0], [29.57067...  \n",
       "39587  [[0.0, 0.0], [0.0, 0.0], [0.0, 0.0], [138.8289...  \n",
       "39588  [[0.0, 0.0], [0.0, 0.0], [0.0, 0.0], [53.21421...  \n",
       "39589  [[0.0, 0.0], [0.0, 0.0], [0.0, 0.0], [0.0, 0.0...  \n",
       "\n",
       "[39590 rows x 4 columns]"
      ]
     },
     "execution_count": 25,
     "metadata": {},
     "output_type": "execute_result"
    }
   ],
   "source": [
    "df"
   ]
  },
  {
   "cell_type": "code",
   "execution_count": null,
   "metadata": {},
   "outputs": [
    {
     "data": {
      "text/plain": [
       "array([54.76663208, 14.62475586])"
      ]
     },
     "execution_count": 14,
     "metadata": {},
     "output_type": "execute_result"
    }
   ],
   "source": [
    "df[\"vector\"][0][0]"
   ]
  },
  {
   "cell_type": "code",
   "execution_count": null,
   "metadata": {},
   "outputs": [],
   "source": [
    "def parse_vector(vector):\n",
    "    vector_array = np.array(vector)\n",
    "    # Ensure we have exactly 34 joints with 2 coordinates each\n",
    "    if vector_array.shape[0] != 18 or vector_array.shape[1] != 2:\n",
    "        padded = np.zeros((18, 2))\n",
    "        padded[:min(vector_array.shape[0], 18), :min(vector_array.shape[1], 2)] = vector_array[:18, :2]\n",
    "        return padded\n",
    "    return vector_array"
   ]
  },
  {
   "cell_type": "code",
   "execution_count": null,
   "metadata": {},
   "outputs": [
    {
     "ename": "IndexError",
     "evalue": "too many indices for array: array is 1-dimensional, but 2 were indexed",
     "output_type": "error",
     "traceback": [
      "\u001b[1;31m---------------------------------------------------------------------------\u001b[0m",
      "\u001b[1;31mIndexError\u001b[0m                                Traceback (most recent call last)",
      "Input \u001b[1;32mIn [16]\u001b[0m, in \u001b[0;36m<cell line: 2>\u001b[1;34m()\u001b[0m\n\u001b[0;32m      1\u001b[0m \u001b[38;5;66;03m# Parse and stack the pose data\u001b[39;00m\n\u001b[1;32m----> 2\u001b[0m pose_data \u001b[38;5;241m=\u001b[39m np\u001b[38;5;241m.\u001b[39mstack(\u001b[43mdf\u001b[49m\u001b[43m[\u001b[49m\u001b[38;5;124;43m'\u001b[39;49m\u001b[38;5;124;43mvector\u001b[39;49m\u001b[38;5;124;43m'\u001b[39;49m\u001b[43m]\u001b[49m\u001b[38;5;241;43m.\u001b[39;49m\u001b[43mapply\u001b[49m\u001b[43m(\u001b[49m\u001b[43mparse_vector\u001b[49m\u001b[43m)\u001b[49m\u001b[38;5;241m.\u001b[39mvalues)\n\u001b[0;32m      4\u001b[0m \u001b[38;5;66;03m# Reshape to [N, C, T, V]\u001b[39;00m\n\u001b[0;32m      5\u001b[0m N, V, C \u001b[38;5;241m=\u001b[39m pose_data\u001b[38;5;241m.\u001b[39mshape\n",
      "File \u001b[1;32mc:\\Users\\badrg\\anaconda3\\lib\\site-packages\\pandas\\core\\series.py:4433\u001b[0m, in \u001b[0;36mSeries.apply\u001b[1;34m(self, func, convert_dtype, args, **kwargs)\u001b[0m\n\u001b[0;32m   4323\u001b[0m \u001b[38;5;28;01mdef\u001b[39;00m \u001b[38;5;21mapply\u001b[39m(\n\u001b[0;32m   4324\u001b[0m     \u001b[38;5;28mself\u001b[39m,\n\u001b[0;32m   4325\u001b[0m     func: AggFuncType,\n\u001b[1;32m   (...)\u001b[0m\n\u001b[0;32m   4328\u001b[0m     \u001b[38;5;241m*\u001b[39m\u001b[38;5;241m*\u001b[39mkwargs,\n\u001b[0;32m   4329\u001b[0m ) \u001b[38;5;241m-\u001b[39m\u001b[38;5;241m>\u001b[39m DataFrame \u001b[38;5;241m|\u001b[39m Series:\n\u001b[0;32m   4330\u001b[0m \u001b[38;5;250m    \u001b[39m\u001b[38;5;124;03m\"\"\"\u001b[39;00m\n\u001b[0;32m   4331\u001b[0m \u001b[38;5;124;03m    Invoke function on values of Series.\u001b[39;00m\n\u001b[0;32m   4332\u001b[0m \n\u001b[1;32m   (...)\u001b[0m\n\u001b[0;32m   4431\u001b[0m \u001b[38;5;124;03m    dtype: float64\u001b[39;00m\n\u001b[0;32m   4432\u001b[0m \u001b[38;5;124;03m    \"\"\"\u001b[39;00m\n\u001b[1;32m-> 4433\u001b[0m     \u001b[38;5;28;01mreturn\u001b[39;00m \u001b[43mSeriesApply\u001b[49m\u001b[43m(\u001b[49m\u001b[38;5;28;43mself\u001b[39;49m\u001b[43m,\u001b[49m\u001b[43m \u001b[49m\u001b[43mfunc\u001b[49m\u001b[43m,\u001b[49m\u001b[43m \u001b[49m\u001b[43mconvert_dtype\u001b[49m\u001b[43m,\u001b[49m\u001b[43m \u001b[49m\u001b[43margs\u001b[49m\u001b[43m,\u001b[49m\u001b[43m \u001b[49m\u001b[43mkwargs\u001b[49m\u001b[43m)\u001b[49m\u001b[38;5;241;43m.\u001b[39;49m\u001b[43mapply\u001b[49m\u001b[43m(\u001b[49m\u001b[43m)\u001b[49m\n",
      "File \u001b[1;32mc:\\Users\\badrg\\anaconda3\\lib\\site-packages\\pandas\\core\\apply.py:1082\u001b[0m, in \u001b[0;36mSeriesApply.apply\u001b[1;34m(self)\u001b[0m\n\u001b[0;32m   1078\u001b[0m \u001b[38;5;28;01mif\u001b[39;00m \u001b[38;5;28misinstance\u001b[39m(\u001b[38;5;28mself\u001b[39m\u001b[38;5;241m.\u001b[39mf, \u001b[38;5;28mstr\u001b[39m):\n\u001b[0;32m   1079\u001b[0m     \u001b[38;5;66;03m# if we are a string, try to dispatch\u001b[39;00m\n\u001b[0;32m   1080\u001b[0m     \u001b[38;5;28;01mreturn\u001b[39;00m \u001b[38;5;28mself\u001b[39m\u001b[38;5;241m.\u001b[39mapply_str()\n\u001b[1;32m-> 1082\u001b[0m \u001b[38;5;28;01mreturn\u001b[39;00m \u001b[38;5;28;43mself\u001b[39;49m\u001b[38;5;241;43m.\u001b[39;49m\u001b[43mapply_standard\u001b[49m\u001b[43m(\u001b[49m\u001b[43m)\u001b[49m\n",
      "File \u001b[1;32mc:\\Users\\badrg\\anaconda3\\lib\\site-packages\\pandas\\core\\apply.py:1137\u001b[0m, in \u001b[0;36mSeriesApply.apply_standard\u001b[1;34m(self)\u001b[0m\n\u001b[0;32m   1131\u001b[0m         values \u001b[38;5;241m=\u001b[39m obj\u001b[38;5;241m.\u001b[39mastype(\u001b[38;5;28mobject\u001b[39m)\u001b[38;5;241m.\u001b[39m_values\n\u001b[0;32m   1132\u001b[0m         \u001b[38;5;66;03m# error: Argument 2 to \"map_infer\" has incompatible type\u001b[39;00m\n\u001b[0;32m   1133\u001b[0m         \u001b[38;5;66;03m# \"Union[Callable[..., Any], str, List[Union[Callable[..., Any], str]],\u001b[39;00m\n\u001b[0;32m   1134\u001b[0m         \u001b[38;5;66;03m# Dict[Hashable, Union[Union[Callable[..., Any], str],\u001b[39;00m\n\u001b[0;32m   1135\u001b[0m         \u001b[38;5;66;03m# List[Union[Callable[..., Any], str]]]]]\"; expected\u001b[39;00m\n\u001b[0;32m   1136\u001b[0m         \u001b[38;5;66;03m# \"Callable[[Any], Any]\"\u001b[39;00m\n\u001b[1;32m-> 1137\u001b[0m         mapped \u001b[38;5;241m=\u001b[39m \u001b[43mlib\u001b[49m\u001b[38;5;241;43m.\u001b[39;49m\u001b[43mmap_infer\u001b[49m\u001b[43m(\u001b[49m\n\u001b[0;32m   1138\u001b[0m \u001b[43m            \u001b[49m\u001b[43mvalues\u001b[49m\u001b[43m,\u001b[49m\n\u001b[0;32m   1139\u001b[0m \u001b[43m            \u001b[49m\u001b[43mf\u001b[49m\u001b[43m,\u001b[49m\u001b[43m  \u001b[49m\u001b[38;5;66;43;03m# type: ignore[arg-type]\u001b[39;49;00m\n\u001b[0;32m   1140\u001b[0m \u001b[43m            \u001b[49m\u001b[43mconvert\u001b[49m\u001b[38;5;241;43m=\u001b[39;49m\u001b[38;5;28;43mself\u001b[39;49m\u001b[38;5;241;43m.\u001b[39;49m\u001b[43mconvert_dtype\u001b[49m\u001b[43m,\u001b[49m\n\u001b[0;32m   1141\u001b[0m \u001b[43m        \u001b[49m\u001b[43m)\u001b[49m\n\u001b[0;32m   1143\u001b[0m \u001b[38;5;28;01mif\u001b[39;00m \u001b[38;5;28mlen\u001b[39m(mapped) \u001b[38;5;129;01mand\u001b[39;00m \u001b[38;5;28misinstance\u001b[39m(mapped[\u001b[38;5;241m0\u001b[39m], ABCSeries):\n\u001b[0;32m   1144\u001b[0m     \u001b[38;5;66;03m# GH#43986 Need to do list(mapped) in order to get treated as nested\u001b[39;00m\n\u001b[0;32m   1145\u001b[0m     \u001b[38;5;66;03m#  See also GH#25959 regarding EA support\u001b[39;00m\n\u001b[0;32m   1146\u001b[0m     \u001b[38;5;28;01mreturn\u001b[39;00m obj\u001b[38;5;241m.\u001b[39m_constructor_expanddim(\u001b[38;5;28mlist\u001b[39m(mapped), index\u001b[38;5;241m=\u001b[39mobj\u001b[38;5;241m.\u001b[39mindex)\n",
      "File \u001b[1;32mc:\\Users\\badrg\\anaconda3\\lib\\site-packages\\pandas\\_libs\\lib.pyx:2870\u001b[0m, in \u001b[0;36mpandas._libs.lib.map_infer\u001b[1;34m()\u001b[0m\n",
      "Input \u001b[1;32mIn [15]\u001b[0m, in \u001b[0;36mparse_vector\u001b[1;34m(vector)\u001b[0m\n\u001b[0;32m      4\u001b[0m \u001b[38;5;28;01mif\u001b[39;00m vector_array\u001b[38;5;241m.\u001b[39mshape[\u001b[38;5;241m0\u001b[39m] \u001b[38;5;241m!=\u001b[39m \u001b[38;5;241m18\u001b[39m \u001b[38;5;129;01mor\u001b[39;00m vector_array\u001b[38;5;241m.\u001b[39mshape[\u001b[38;5;241m1\u001b[39m] \u001b[38;5;241m!=\u001b[39m \u001b[38;5;241m2\u001b[39m:\n\u001b[0;32m      5\u001b[0m     padded \u001b[38;5;241m=\u001b[39m np\u001b[38;5;241m.\u001b[39mzeros((\u001b[38;5;241m18\u001b[39m, \u001b[38;5;241m2\u001b[39m))\n\u001b[1;32m----> 6\u001b[0m     padded[:\u001b[38;5;28mmin\u001b[39m(vector_array\u001b[38;5;241m.\u001b[39mshape[\u001b[38;5;241m0\u001b[39m], \u001b[38;5;241m18\u001b[39m), :\u001b[38;5;28mmin\u001b[39m(vector_array\u001b[38;5;241m.\u001b[39mshape[\u001b[38;5;241m1\u001b[39m], \u001b[38;5;241m2\u001b[39m)] \u001b[38;5;241m=\u001b[39m \u001b[43mvector_array\u001b[49m\u001b[43m[\u001b[49m\u001b[43m:\u001b[49m\u001b[38;5;241;43m18\u001b[39;49m\u001b[43m,\u001b[49m\u001b[43m \u001b[49m\u001b[43m:\u001b[49m\u001b[38;5;241;43m2\u001b[39;49m\u001b[43m]\u001b[49m\n\u001b[0;32m      7\u001b[0m     \u001b[38;5;28;01mreturn\u001b[39;00m padded\n\u001b[0;32m      8\u001b[0m \u001b[38;5;28;01mreturn\u001b[39;00m vector_array\n",
      "\u001b[1;31mIndexError\u001b[0m: too many indices for array: array is 1-dimensional, but 2 were indexed"
     ]
    }
   ],
   "source": [
    "# Parse and stack the pose data\n",
    "pose_data = np.stack(df['vector'].apply(parse_vector).values)\n",
    "\n",
    "# Reshape to [N, C, T, V]\n",
    "N, V, C = pose_data.shape\n",
    "T = 1  # Assuming each sample is a single frame\n",
    "pose_data = pose_data.transpose(0, 2, 1).reshape(N, C, T, V)\n",
    "\n",
    "print(\"Pose data shape after reshaping:\", pose_data.shape)\n",
    "\n",
    "# Convert to torch tensors\n",
    "pose_data_tensor = torch.FloatTensor(pose_data)\n",
    "angles_tensor = torch.LongTensor(df['angle'].values)\n",
    "labels_tensor = torch.FloatTensor(df['parkinson'].values)\n",
    "\n",
    "print(\"Final pose data tensor shape:\", pose_data_tensor.shape)"
   ]
  },
  {
   "cell_type": "code",
   "execution_count": null,
   "metadata": {},
   "outputs": [
    {
     "name": "stdout",
     "output_type": "stream",
     "text": [
      "Pose data shape: torch.Size([551, 2, 1, 18])\n"
     ]
    }
   ],
   "source": [
    "print(\"Pose data shape:\", pose_data_tensor.shape)"
   ]
  },
  {
   "cell_type": "code",
   "execution_count": null,
   "metadata": {},
   "outputs": [
    {
     "data": {
      "text/plain": [
       "tensor([38.8935, 43.8592, 35.0178, 51.7123, 29.7362, 62.4427, 19.7756, 76.1154,\n",
       "         5.2351, 76.3991,  4.9302, 54.7671, 27.9492, 55.6615, 27.8608, 55.0021,\n",
       "        31.3362,  0.0000])"
      ]
     },
     "execution_count": 18,
     "metadata": {},
     "output_type": "execute_result"
    }
   ],
   "source": [
    "pose_data_tensor[0][0][0]"
   ]
  },
  {
   "cell_type": "code",
   "execution_count": null,
   "metadata": {},
   "outputs": [
    {
     "name": "stdout",
     "output_type": "stream",
     "text": [
      "Graph: num_node = 18\n"
     ]
    }
   ],
   "source": [
    "graph_args = {'layout': 'openpose', 'strategy': 'spatial'}\n",
    "in_channels = pose_data_tensor.shape[1]\n",
    "model = ParkinsonsDetectionModel(in_channels=in_channels, graph_args=graph_args, edge_importance_weighting=True)\n"
   ]
  },
  {
   "cell_type": "code",
   "execution_count": null,
   "metadata": {},
   "outputs": [
    {
     "name": "stdout",
     "output_type": "stream",
     "text": [
      "Epoch [1/3], Loss: 0.0625\n",
      "Epoch [2/3], Loss: 0.0001\n",
      "Epoch [3/3], Loss: 0.0000\n"
     ]
    }
   ],
   "source": [
    "device = torch.device('cuda' if torch.cuda.is_available() else 'cpu')\n",
    "model = model.to(device)\n",
    "pose_data_tensor = pose_data_tensor.to(device)\n",
    "angles_tensor = angles_tensor.to(device)\n",
    "labels_tensor = labels_tensor.to(device)\n",
    "criterion = nn.BCEWithLogitsLoss()  # Use BCEWithLogitsLoss instead of BCELoss\n",
    "optimizer = torch.optim.Adam(model.parameters(), lr=0.001)\n",
    "num_epochs = 3\n",
    "batch_size = 10  # or whatever size works for your memory constraints\n",
    "\n",
    "\n",
    "for epoch in range(num_epochs):\n",
    "    model.train()\n",
    "    total_loss = 0\n",
    "    for i in range(0, pose_data_tensor.size(0), batch_size):\n",
    "        # Get batch\n",
    "        batch_pose = pose_data_tensor[i:i+batch_size]\n",
    "        batch_angles = angles_tensor[i:i+batch_size]\n",
    "        batch_labels = labels_tensor[i:i+batch_size]\n",
    "\n",
    "        # Forward pass\n",
    "        outputs = model(batch_pose, batch_angles)\n",
    "        loss = criterion(outputs, batch_labels)\n",
    "\n",
    "        # Backward pass and optimize\n",
    "        optimizer.zero_grad()\n",
    "        loss.backward()\n",
    "        optimizer.step()\n",
    "\n",
    "        total_loss += loss.item()\n",
    "\n",
    "    avg_loss = total_loss / (pose_data_tensor.size(0) // batch_size)\n",
    "    print(f\"Epoch [{epoch+1}/{num_epochs}], Loss: {avg_loss:.4f}\")"
   ]
  },
  {
   "cell_type": "code",
   "execution_count": null,
   "metadata": {},
   "outputs": [
    {
     "name": "stdout",
     "output_type": "stream",
     "text": [
      "Accuracy: 1.0\n"
     ]
    }
   ],
   "source": [
    "# For inference:\n",
    "model.eval()\n",
    "with torch.no_grad():\n",
    "    outputs = model(pose_data_tensor, angles_tensor)\n",
    "    predicted = (outputs.squeeze() > 0.5).float()  # Threshold at 0.5 for binary classification\n",
    "    accuracy = (predicted == labels_tensor).float().mean()\n",
    "    print(\"Accuracy:\", accuracy.item())"
   ]
  }
 ],
 "metadata": {
  "kernelspec": {
   "display_name": "base",
   "language": "python",
   "name": "python3"
  },
  "language_info": {
   "codemirror_mode": {
    "name": "ipython",
    "version": 3
   },
   "file_extension": ".py",
   "mimetype": "text/x-python",
   "name": "python",
   "nbconvert_exporter": "python",
   "pygments_lexer": "ipython3",
   "version": "3.9.12"
  }
 },
 "nbformat": 4,
 "nbformat_minor": 2
}
